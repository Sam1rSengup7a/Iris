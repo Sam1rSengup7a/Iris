{
 "cells": [
  {
   "cell_type": "code",
   "execution_count": 1,
   "id": "f3ccaf9d",
   "metadata": {},
   "outputs": [],
   "source": [
    "#installing opencv\n",
    "#pip install opencv-python"
   ]
  },
  {
   "cell_type": "code",
   "execution_count": 2,
   "id": "ff2dfb6b",
   "metadata": {},
   "outputs": [],
   "source": [
    "#importing cv2\n",
    "import cv2"
   ]
  },
  {
   "cell_type": "code",
   "execution_count": 3,
   "id": "5a3cb46d",
   "metadata": {},
   "outputs": [],
   "source": [
    "# Read the image in RGB format\n",
    "img = cv2.imread('IADX8-062.jpg')"
   ]
  },
  {
   "cell_type": "code",
   "execution_count": 4,
   "id": "72e657c5",
   "metadata": {},
   "outputs": [],
   "source": [
    "# Convert the image to grayscale\n",
    "gray_img = cv2.cvtColor(img, cv2.COLOR_RGB2GRAY)"
   ]
  },
  {
   "cell_type": "code",
   "execution_count": 5,
   "id": "d2b55671",
   "metadata": {},
   "outputs": [],
   "source": [
    "# Invert the grayscale image\n",
    "inverted_gray_img = 255 - gray_img"
   ]
  },
  {
   "cell_type": "code",
   "execution_count": 6,
   "id": "b6b3adaf",
   "metadata": {},
   "outputs": [],
   "source": [
    "# Apply Gaussian blur to the inverted grayscale image\n",
    "blurred_img = cv2.GaussianBlur(inverted_gray_img, (21, 21), 0)"
   ]
  },
  {
   "cell_type": "code",
   "execution_count": 7,
   "id": "5c2a72ea",
   "metadata": {},
   "outputs": [],
   "source": [
    "# Divide the grayscale image by the blurred image to create the pencil sketch\n",
    "pencil_sketch_img = cv2.divide(gray_img, blurred_img, scale=256)"
   ]
  },
  {
   "cell_type": "code",
   "execution_count": null,
   "id": "4eeff2bc",
   "metadata": {},
   "outputs": [],
   "source": [
    "# Display the original image and the pencil sketch side by side\n",
    "cv2.imshow('Original Image', img)\n",
    "cv2.imshow('Pencil Sketch', pencil_sketch_img)\n",
    "cv2.waitKey(0)"
   ]
  }
 ],
 "metadata": {
  "kernelspec": {
   "display_name": "Python 3 (ipykernel)",
   "language": "python",
   "name": "python3"
  },
  "language_info": {
   "codemirror_mode": {
    "name": "ipython",
    "version": 3
   },
   "file_extension": ".py",
   "mimetype": "text/x-python",
   "name": "python",
   "nbconvert_exporter": "python",
   "pygments_lexer": "ipython3",
   "version": "3.9.12"
  }
 },
 "nbformat": 4,
 "nbformat_minor": 5
}
